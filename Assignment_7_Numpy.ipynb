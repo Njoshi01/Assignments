{
 "cells": [
  {
   "cell_type": "markdown",
   "metadata": {},
   "source": [
    "## Question1\n",
    "#Write a function so that the columns of the output matrix are powers of the input vector.  #The order of the powers is determined by the increasing boolean argument.Specifically, when increasing is False, the i-th output column is the input vector raised element-wise to the power of N - i - 1. "
   ]
  },
  {
   "cell_type": "code",
   "execution_count": 55,
   "metadata": {},
   "outputs": [],
   "source": [
    "# import numpy \n",
    "import numpy as np\n",
    "\n",
    "#Function takes an array as input\n",
    "def matrix_power(in_array):\n",
    "    \n",
    "# Find length of the array\n",
    "    N = len(in_array)\n",
    "\n",
    "# Create an empty output array\n",
    "    out_array=np.array([])\n",
    "\n",
    "# Loop in through the array to calculate the power of the number\n",
    "    for a in in_array:\n",
    "        for i in range(N-1,-1,-1):\n",
    "            out_array= np.append(out_array,[a**i])\n",
    "            \n",
    "# Convert from float to int\n",
    "            out_array = out_array.astype('int64')\n",
    "  \n",
    "# Reshape array into N,N\n",
    "    print(np.reshape(out_array,(N,N)))\n",
    "            "
   ]
  },
  {
   "cell_type": "code",
   "execution_count": 56,
   "metadata": {},
   "outputs": [
    {
     "name": "stdout",
     "output_type": "stream",
     "text": [
      "[[   1    1    1    1    1    1]\n",
      " [  32   16    8    4    2    1]\n",
      " [ 243   81   27    9    3    1]\n",
      " [1024  256   64   16    4    1]\n",
      " [3125  625  125   25    5    1]\n",
      " [7776 1296  216   36    6    1]]\n"
     ]
    }
   ],
   "source": [
    "matrix_power([1,2,3,4,5,6])"
   ]
  },
  {
   "cell_type": "markdown",
   "metadata": {},
   "source": [
    "## Question2: \n",
    "Write a function to find moving average in an array over a window:          \n",
    "Test it over [3, 5, 7, 2, 8, 10, 11, 65, 72, 81, 99, 100, 150] and window of 3. "
   ]
  },
  {
   "cell_type": "code",
   "execution_count": 57,
   "metadata": {},
   "outputs": [],
   "source": [
    "# Function takes an array and size as input\n",
    "def moving_average(in_array,win_int):\n",
    "# Find length of the array\n",
    "    N = len(in_array)\n",
    "\n",
    "# Find how many values will be there in moving average\n",
    "    N2 = N-win_int+1\n",
    "\n",
    "# Create an empty array\n",
    "    out_array = np.array([])\n",
    "\n",
    "# Loop through the array N2 times and calculate the moving average\n",
    "    for k in range(0,N2):    \n",
    "        out_array=np.append(out_array,sum(in_array[k:k+win_int])/win_int)\n",
    "\n",
    "# Print output\n",
    "    print(out_array)\n",
    "    "
   ]
  },
  {
   "cell_type": "code",
   "execution_count": 52,
   "metadata": {},
   "outputs": [
    {
     "name": "stdout",
     "output_type": "stream",
     "text": [
      "[  5.           4.66666667   5.66666667   6.66666667   9.66666667\n",
      "  28.66666667  49.33333333  72.66666667  84.          93.33333333\n",
      " 116.33333333]\n"
     ]
    }
   ],
   "source": [
    "moving_average([3, 5, 7, 2, 8, 10, 11, 65, 72, 81, 99, 100, 150],3)"
   ]
  },
  {
   "cell_type": "code",
   "execution_count": 53,
   "metadata": {},
   "outputs": [
    {
     "name": "stdout",
     "output_type": "stream",
     "text": [
      "[  4.25   5.5    6.75   7.75  23.5   39.5   57.25  79.25  88.   107.5 ]\n"
     ]
    }
   ],
   "source": [
    "moving_average([3, 5, 7, 2, 8, 10, 11, 65, 72, 81, 99, 100, 150],4)"
   ]
  },
  {
   "cell_type": "code",
   "execution_count": null,
   "metadata": {},
   "outputs": [],
   "source": []
  }
 ],
 "metadata": {
  "kernelspec": {
   "display_name": "Python 3",
   "language": "python",
   "name": "python3"
  },
  "language_info": {
   "codemirror_mode": {
    "name": "ipython",
    "version": 3
   },
   "file_extension": ".py",
   "mimetype": "text/x-python",
   "name": "python",
   "nbconvert_exporter": "python",
   "pygments_lexer": "ipython3",
   "version": "3.8.3"
  }
 },
 "nbformat": 4,
 "nbformat_minor": 4
}
