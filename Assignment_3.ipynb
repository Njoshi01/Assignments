{
 "cells": [
  {
   "cell_type": "code",
   "execution_count": 28,
   "metadata": {},
   "outputs": [
    {
     "name": "stdout",
     "output_type": "stream",
     "text": [
      "Please provide 'add','sub','mul' or 'div' as input\n",
      "add\n"
     ]
    },
    {
     "data": {
      "text/plain": [
       "183"
      ]
     },
     "execution_count": 28,
     "metadata": {},
     "output_type": "execute_result"
    }
   ],
   "source": [
    "##Question 1.1\n",
    "# This function takes an iterable object-list,tuple as input and then performs (add,sub,mul,div) based on input provided\n",
    "def myreduce(x):\n",
    "    \n",
    "# try and expect block to handle incorrect object provided as argument\n",
    " try:\n",
    "    print(\"Please provide 'add','sub','mul' or 'div' as input\")\n",
    "    set_operator=input()\n",
    "    \n",
    "# initializing variables\n",
    "    var_add_sub = 0\n",
    "    var_mul_div = 1\n",
    "    \n",
    "# looping through the object and performing operation as requested by user\n",
    "    for i in x:\n",
    "        if set_operator == 'add':\n",
    "              var_add_sub = var_add_sub + i\n",
    "        elif set_operator == 'sub':\n",
    "              var_add_sub = var_add_sub - i\n",
    "        elif set_operator == 'mul':\n",
    "              var_mul_div = var_mul_div * i\n",
    "        elif set_operator == 'div':\n",
    "              var_mul_div = var_mul_div/i\n",
    "        else:\n",
    "            print(\"Please provide 'add','sub','mul' or 'div' as input\")\n",
    "            break\n",
    "    if set_operator == 'add' or set_operator == 'sub':\n",
    "        return var_add_sub\n",
    "    elif set_operator == 'mul' or set_operator == 'div':\n",
    "        return var_mul_div\n",
    "  \n",
    " except:\n",
    "    return (\"Incorrect input\")\n",
    "\n",
    "myreduce([20,22,33,54,54,0])\n",
    "        \n",
    "    "
   ]
  },
  {
   "cell_type": "code",
   "execution_count": 46,
   "metadata": {},
   "outputs": [
    {
     "data": {
      "text/plain": [
       "[20, 32, 56]"
      ]
     },
     "execution_count": 46,
     "metadata": {},
     "output_type": "execute_result"
    }
   ],
   "source": [
    "##Question 1.2\n",
    "# This function takes an iterable object-list,tuple as input and filter even records\n",
    "def myfilter(x):\n",
    "    \n",
    "# try and expect block to handle incorrect object provided as argument\n",
    " try:\n",
    "\n",
    "# Empty list to store filtered records\n",
    "    new_list=[]\n",
    "    \n",
    "# looping through the object and performing operation as requested by user\n",
    "    for i in x:\n",
    "        if i%2 == 0:\n",
    "             new_list.append(i)\n",
    "    return new_list  \n",
    "\n",
    " except:\n",
    "    return (\"Excpetion\")\n",
    "\n",
    "myfilter([20,21,32,65,56,77])\n"
   ]
  },
  {
   "cell_type": "code",
   "execution_count": 51,
   "metadata": {},
   "outputs": [
    {
     "data": {
      "text/plain": [
       "['x', 'y', 'z']"
      ]
     },
     "execution_count": 51,
     "metadata": {},
     "output_type": "execute_result"
    }
   ],
   "source": [
    "lst = ['x','y','z']\n",
    "lst"
   ]
  },
  {
   "cell_type": "code",
   "execution_count": 53,
   "metadata": {},
   "outputs": [
    {
     "data": {
      "text/plain": [
       "['x', 'xx', 'xxx', 'xxxx', 'y', 'yy', 'yyy', 'yyyy', 'z', 'zz', 'zzz', 'zzzz']"
      ]
     },
     "execution_count": 53,
     "metadata": {},
     "output_type": "execute_result"
    }
   ],
   "source": [
    "lst1 = [i*j for i in lst for j in range(1,5)]\n",
    "lst1"
   ]
  },
  {
   "cell_type": "code",
   "execution_count": 55,
   "metadata": {},
   "outputs": [
    {
     "data": {
      "text/plain": [
       "['x', 'y', 'z', 'xx', 'yy', 'zz', 'xxx', 'yyy', 'zzz', 'xxxx', 'yyyy', 'zzzz']"
      ]
     },
     "execution_count": 55,
     "metadata": {},
     "output_type": "execute_result"
    }
   ],
   "source": [
    "lst2 = [i*j for i in range(1,5) for j in lst]\n",
    "lst2"
   ]
  },
  {
   "cell_type": "code",
   "execution_count": 74,
   "metadata": {},
   "outputs": [
    {
     "data": {
      "text/plain": [
       "[2, 3, 4]"
      ]
     },
     "execution_count": 74,
     "metadata": {},
     "output_type": "execute_result"
    }
   ],
   "source": [
    "num_lst = [2,3,4]\n",
    "num_lst"
   ]
  },
  {
   "cell_type": "code",
   "execution_count": 75,
   "metadata": {},
   "outputs": [
    {
     "data": {
      "text/plain": [
       "[[2], [3], [4], [3], [4], [5], [4], [5], [6]]"
      ]
     },
     "execution_count": 75,
     "metadata": {},
     "output_type": "execute_result"
    }
   ],
   "source": [
    "num_lst1 = [[i+j] for i in num_lst for j in range(0,3)]\n",
    "num_lst1"
   ]
  },
  {
   "cell_type": "code",
   "execution_count": 76,
   "metadata": {},
   "outputs": [
    {
     "data": {
      "text/plain": [
       "[2, 3, 4, 5]"
      ]
     },
     "execution_count": 76,
     "metadata": {},
     "output_type": "execute_result"
    }
   ],
   "source": [
    "num_lst2 = [2,3,4,5]\n",
    "num_lst2 "
   ]
  },
  {
   "cell_type": "code",
   "execution_count": 78,
   "metadata": {},
   "outputs": [
    {
     "data": {
      "text/plain": [
       "[[2, 3, 4, 5], [3, 4, 5, 6], [4, 5, 6, 7], [5, 6, 7, 8]]"
      ]
     },
     "execution_count": 78,
     "metadata": {},
     "output_type": "execute_result"
    }
   ],
   "source": [
    "num_lst3 = [[i+j for i in num_lst2] for j in range(4)]\n",
    "num_lst3"
   ]
  },
  {
   "cell_type": "code",
   "execution_count": 79,
   "metadata": {},
   "outputs": [
    {
     "data": {
      "text/plain": [
       "(1, 2, 3)"
      ]
     },
     "execution_count": 79,
     "metadata": {},
     "output_type": "execute_result"
    }
   ],
   "source": [
    "num_lst4 = (1,2,3)\n",
    "num_lst4"
   ]
  },
  {
   "cell_type": "code",
   "execution_count": 81,
   "metadata": {},
   "outputs": [
    {
     "data": {
      "text/plain": [
       "[(1, 1), (2, 1), (3, 1), (1, 2), (2, 2), (3, 2), (1, 3), (2, 3), (3, 3)]"
      ]
     },
     "execution_count": 81,
     "metadata": {},
     "output_type": "execute_result"
    }
   ],
   "source": [
    "num_lst5 = [(j,i) for i in num_lst4 for j in range(1,4)]\n",
    "num_lst5"
   ]
  },
  {
   "cell_type": "code",
   "execution_count": null,
   "metadata": {},
   "outputs": [],
   "source": []
  }
 ],
 "metadata": {
  "kernelspec": {
   "display_name": "Python 3",
   "language": "python",
   "name": "python3"
  },
  "language_info": {
   "codemirror_mode": {
    "name": "ipython",
    "version": 3
   },
   "file_extension": ".py",
   "mimetype": "text/x-python",
   "name": "python",
   "nbconvert_exporter": "python",
   "pygments_lexer": "ipython3",
   "version": "3.8.3"
  }
 },
 "nbformat": 4,
 "nbformat_minor": 4
}
