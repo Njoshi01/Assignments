{
 "cells": [
  {
   "cell_type": "code",
   "execution_count": 93,
   "metadata": {},
   "outputs": [],
   "source": [
    "## Question 1.1\n",
    "# Parent class for sides of a triangle\n",
    "class SidesT:\n",
    "    def __init__(self,sidea,sideb,sidec):\n",
    "        self.sidea = sidea\n",
    "        self.sideb = sideb\n",
    "        self.sidec = sidec\n",
    "\n",
    "# Child class to take triangle sides as arguments from the parent class and calculate area\n",
    "class AreaT(SidesT):\n",
    "      def __init__(self,*args):\n",
    "        super(AreaT,self).__init__(*args)\n",
    "        \n",
    "# Function to find semi-perimeter(s) and then area of triangle      \n",
    "      def area_triangle(self):\n",
    "        s = ((self.sidea+self.sideb+self.sidec)/2)\n",
    "        area_triangle = (s*(s-self.sidea)*(s-self.sideb)*(s-self.sidec))**0.5\n",
    "        return round(area_triangle,2)\n",
    "     \n",
    "            \n",
    "        "
   ]
  },
  {
   "cell_type": "code",
   "execution_count": 94,
   "metadata": {},
   "outputs": [
    {
     "data": {
      "text/plain": [
       "17.32"
      ]
     },
     "execution_count": 94,
     "metadata": {},
     "output_type": "execute_result"
    }
   ],
   "source": [
    "A1= AreaT(5,7,8)\n",
    "A1.area_triangle()\n",
    "\n"
   ]
  },
  {
   "cell_type": "code",
   "execution_count": 111,
   "metadata": {},
   "outputs": [],
   "source": [
    "## Question 1.2\n",
    "# Function takes list and integer n as input and generates a new list with values greater in length than integer n \n",
    "def filter_long_words(str_lst,str_len):\n",
    " try:\n",
    "    new_list=[]\n",
    "    for i in str_lst:\n",
    "        if len(i) > str_len:\n",
    "            new_list.append(i)\n",
    "    return new_list\n",
    " except:\n",
    "     print(\"Exception\")\n",
    "         "
   ]
  },
  {
   "cell_type": "code",
   "execution_count": 103,
   "metadata": {},
   "outputs": [
    {
     "data": {
      "text/plain": [
       "['length', 'asdasdasdas', 'dadasdasdsa', '123232', 'iNueron']"
      ]
     },
     "execution_count": 103,
     "metadata": {},
     "output_type": "execute_result"
    }
   ],
   "source": [
    "filter_long_words(['words','length','asdasdasdas','dadasdasdsa','123232','iNueron'],5) "
   ]
  },
  {
   "cell_type": "code",
   "execution_count": 112,
   "metadata": {},
   "outputs": [],
   "source": [
    "## Question 2.1\n",
    "# Function takes list as input and generates a new list with length of the values in the list \n",
    "def str_length(str_lst):\n",
    " try:\n",
    "    new_lst_str_len = []\n",
    "    for i in str_lst:\n",
    "        new_lst_str_len.append(len(i))\n",
    "    return new_lst_str_len\n",
    " except:\n",
    "        print(\"Exception\")"
   ]
  },
  {
   "cell_type": "code",
   "execution_count": 113,
   "metadata": {},
   "outputs": [
    {
     "data": {
      "text/plain": [
       "[2, 3, 4]"
      ]
     },
     "execution_count": 113,
     "metadata": {},
     "output_type": "execute_result"
    }
   ],
   "source": [
    "str_length( ['ab','cde','erty'] )"
   ]
  },
  {
   "cell_type": "code",
   "execution_count": 128,
   "metadata": {},
   "outputs": [],
   "source": [
    "## Question 2.2\n",
    "# Function takes character as input and returns True if it's a vowel \n",
    "def identify_vowel(char_lst):\n",
    " try:\n",
    "    for i in char_lst:\n",
    "        if i in ('a','e','i','o','u'):\n",
    "          return True\n",
    "        else:\n",
    "          return False\n",
    " except:\n",
    "    print(\"Exception\")"
   ]
  },
  {
   "cell_type": "code",
   "execution_count": 129,
   "metadata": {},
   "outputs": [
    {
     "data": {
      "text/plain": [
       "True"
      ]
     },
     "execution_count": 129,
     "metadata": {},
     "output_type": "execute_result"
    }
   ],
   "source": [
    "identify_vowel(['a'])"
   ]
  },
  {
   "cell_type": "code",
   "execution_count": 130,
   "metadata": {},
   "outputs": [
    {
     "data": {
      "text/plain": [
       "False"
      ]
     },
     "execution_count": 130,
     "metadata": {},
     "output_type": "execute_result"
    }
   ],
   "source": [
    "identify_vowel(['b'])"
   ]
  },
  {
   "cell_type": "code",
   "execution_count": null,
   "metadata": {},
   "outputs": [],
   "source": []
  }
 ],
 "metadata": {
  "kernelspec": {
   "display_name": "Python 3",
   "language": "python",
   "name": "python3"
  },
  "language_info": {
   "codemirror_mode": {
    "name": "ipython",
    "version": 3
   },
   "file_extension": ".py",
   "mimetype": "text/x-python",
   "name": "python",
   "nbconvert_exporter": "python",
   "pygments_lexer": "ipython3",
   "version": "3.8.3"
  }
 },
 "nbformat": 4,
 "nbformat_minor": 4
}
