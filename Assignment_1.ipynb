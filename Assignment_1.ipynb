{
 "cells": [
  {
   "cell_type": "code",
   "execution_count": 14,
   "metadata": {},
   "outputs": [
    {
     "name": "stdout",
     "output_type": "stream",
     "text": [
      "2002,2009,2016,2023,2037,2044,2051,2058,2072,2079,2086,2093,2107,2114,2121,2128,2142,2149,2156,2163,2177,2184,2191,2198,2212,2219,2226,2233,2247,2254,2261,2268,2282,2289,2296,2303,2317,2324,2331,2338,2352,2359,2366,2373,2387,2394,2401,2408,2422,2429,2436,2443,2457,2464,2471,2478,2492,2499,2506,2513,2527,2534,2541,2548,2562,2569,2576,2583,2597,2604,2611,2618,2632,2639,2646,2653,2667,2674,2681,2688,2702,2709,2716,2723,2737,2744,2751,2758,2772,2779,2786,2793,2807,2814,2821,2828,2842,2849,2856,2863,2877,2884,2891,2898,2912,2919,2926,2933,2947,2954,2961,2968,2982,2989,2996,3003,3017,3024,3031,3038,3052,3059,3066,3073,3087,3094,3101,3108,3122,3129,3136,3143,3157,3164,3171,3178,3192,3199"
     ]
    }
   ],
   "source": [
    "##Question 1\n",
    "# Take range from 2000,3201. 3201 to include 3200 in calculation\n",
    "for i in range(2000,3201):\n",
    "#Check if number is divided but not divided by 5- this is done by checking for remainder\n",
    "    if i%7 == 0 and i%5 != 0:\n",
    "        if i < 3199:\n",
    "          print(i,end=',')\n",
    "        else:\n",
    "          print(i,end=\"\")\n",
    "     "
   ]
  },
  {
   "cell_type": "code",
   "execution_count": 16,
   "metadata": {},
   "outputs": [
    {
     "name": "stdout",
     "output_type": "stream",
     "text": [
      "Please enter your First Name\n",
      "Nitin\n",
      "Please enter your Last Name\n",
      "Joshi\n"
     ]
    },
    {
     "data": {
      "text/plain": [
       "'nitiN ihsoJ'"
      ]
     },
     "execution_count": 16,
     "metadata": {},
     "output_type": "execute_result"
    }
   ],
   "source": [
    "##Question2\n",
    "print(\"Please enter your First Name\")\n",
    "first_name=input()\n",
    "print(\"Please enter your Last Name\")\n",
    "last_name=input()\n",
    "#Reverese first name\n",
    "rev_first_name = first_name[::-1]\n",
    "#Reverese last name\n",
    "rev_last_name = last_name[::-1]\n",
    "#Concatenate reversed first and last name\n",
    "rev_name = rev_first_name+' '+rev_last_name\n",
    "rev_name"
   ]
  },
  {
   "cell_type": "code",
   "execution_count": 17,
   "metadata": {},
   "outputs": [
    {
     "data": {
      "text/plain": [
       "904.7786842338603"
      ]
     },
     "execution_count": 17,
     "metadata": {},
     "output_type": "execute_result"
    }
   ],
   "source": [
    "##Question3\n",
    "import math\n",
    "#diameter of sphere d\n",
    "d = 12\n",
    "#radius of sphere r = d/2\n",
    "r = d/2\n",
    "#volumne of sphere V = 4/3*pi*r**3\n",
    "V =  (4/3)*(math.pi)*(r**3)\n",
    "V"
   ]
  },
  {
   "cell_type": "code",
   "execution_count": null,
   "metadata": {},
   "outputs": [],
   "source": []
  }
 ],
 "metadata": {
  "kernelspec": {
   "display_name": "Python 3",
   "language": "python",
   "name": "python3"
  },
  "language_info": {
   "codemirror_mode": {
    "name": "ipython",
    "version": 3
   },
   "file_extension": ".py",
   "mimetype": "text/x-python",
   "name": "python",
   "nbconvert_exporter": "python",
   "pygments_lexer": "ipython3",
   "version": "3.8.3"
  }
 },
 "nbformat": 4,
 "nbformat_minor": 4
}
